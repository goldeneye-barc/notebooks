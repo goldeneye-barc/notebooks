{
 "cells": [
  {
   "cell_type": "code",
   "execution_count": 4,
   "metadata": {
    "collapsed": false
   },
   "outputs": [],
   "source": [
    "%matplotlib inline\n",
    "import numpy as np\n",
    "import cv2\n",
    "import matplotlib.pyplot as plt\n",
    "import skvideo.io\n",
    "cap = skvideo.io.vreader('output2.avi')\n",
    "\n",
    "for frame in cap:\n",
    "    \n",
    "    gray = cv2.cvtColor(frame, cv2.COLOR_BGR2GRAY)\n",
    "    _, gray = cv2.threshold(gray,250,255,cv2.THRESH_BINARY)\n",
    "    #gray = cv2.adaptiveThreshold(gray,255,cv2.ADAPTIVE_THRESH_GAUSSIAN_C,\\\n",
    "            #cv2.THRESH_BINARY,101,200)\n",
    "    gray = gray[0:500, :]\n",
    "    y_len, x_len = gray.shape\n",
    "    total_error = []\n",
    "    for y in range(10, y_len, 100):\n",
    "        weighted_mass = 0\n",
    "        mass = 0\n",
    "        \n",
    "        for x in range(0, x_len):\n",
    "            if gray[y,x] == 255:\n",
    "                mass += 1\n",
    "                weighted_mass += x\n",
    "        if mass > 0:\n",
    "            #final_x = int(np.average(gray[y,:], weights=range(x_len)))\n",
    "            final_x = int(weighted_mass / mass)\n",
    "            total_error.append((-x_len // 2 + final_x) / (x_len // 2))\n",
    "            cv2.rectangle(gray, (final_x-10, y), (final_x+10, y+35), 120, 2)\n",
    "    if len(total_error) > 0:\n",
    "        font = cv2.FONT_HERSHEY_SIMPLEX\n",
    "        cv2.putText(gray,'error: ' + str(sum(total_error)/len(total_error)),(10, 500), font, 1, 255, 2, cv2.LINE_AA)\n",
    "    cv2.imshow('woohoo', gray)\n",
    "    if cv2.waitKey(100) & 0xFF == ord('q'):\n",
    "        break\n",
    "\n",
    "cv2.destroyAllWindows()"
   ]
  },
  {
   "cell_type": "code",
   "execution_count": 3,
   "metadata": {
    "collapsed": true
   },
   "outputs": [],
   "source": [
    "import numpy as np\n",
    "import cv2\n",
    "import skvideo.io\n",
    "cap = skvideo.io.vreader('output2.avi')\n",
    "\n",
    "\n",
    "for frame in cap:\n",
    "    \n",
    "    gray = cv2.cvtColor(frame, cv2.COLOR_BGR2GRAY)\n",
    "    gray = cv2.Canny(gray, 150, 200)\n",
    "    _, gray = cv2.threshold(gray,250,255,cv2.THRESH_BINARY)\n",
    "    gray = gray[0:500, :]\n",
    "    y_len, x_len = gray.shape\n",
    "    total_error = []\n",
    "    for y in range(10, y_len, 100):\n",
    "\n",
    "        weighted_mass = 0\n",
    "        mass = 0\n",
    "        for x in range(0, x_len):\n",
    "            if gray[y,x] == 255:\n",
    "                mass += 1\n",
    "                weighted_mass += x\n",
    "        if mass > 0:\n",
    "            final_x = int(weighted_mass / mass)\n",
    "            total_error.append((-x_len // 2 + final_x) / (x_len // 2))\n",
    "            cv2.rectangle(gray, (final_x-10, y), (final_x+10, y+35), 120, 2)\n",
    "    if len(total_error) > 0:\n",
    "        font = cv2.FONT_HERSHEY_SIMPLEX\n",
    "        cv2.putText(gray,'error: ' + str(sum(total_error)/len(total_error)),(10, 500), font, 1, 255, 2, cv2.LINE_AA)\n",
    "    cv2.imshow('frame', gray)\n",
    "\n",
    "    if cv2.waitKey(500) & 0xFF == ord('q'):\n",
    "        break\n",
    "\n",
    "cv2.destroyAllWindows()"
   ]
  },
  {
   "cell_type": "code",
   "execution_count": null,
   "metadata": {
    "collapsed": true
   },
   "outputs": [],
   "source": []
  }
 ],
 "metadata": {
  "anaconda-cloud": {},
  "kernelspec": {
   "display_name": "Python [conda root]",
   "language": "python",
   "name": "conda-root-py"
  },
  "language_info": {
   "codemirror_mode": {
    "name": "ipython",
    "version": 3
   },
   "file_extension": ".py",
   "mimetype": "text/x-python",
   "name": "python",
   "nbconvert_exporter": "python",
   "pygments_lexer": "ipython3",
   "version": "3.5.2"
  }
 },
 "nbformat": 4,
 "nbformat_minor": 2
}

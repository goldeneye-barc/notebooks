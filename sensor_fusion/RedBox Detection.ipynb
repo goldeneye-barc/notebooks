{
 "cells": [
  {
   "cell_type": "code",
   "execution_count": 129,
   "metadata": {
    "collapsed": true
   },
   "outputs": [],
   "source": [
    "import cv2\n",
    "import numpy as np\n",
    "import skvideo.io"
   ]
  },
  {
   "cell_type": "code",
   "execution_count": 117,
   "metadata": {
    "collapsed": false
   },
   "outputs": [],
   "source": [
    "def detect_red(img):\n",
    "    size = img.shape\n",
    "    img = img.reshape((size[0], size[1], 3))\n",
    "    b, g, r = cv2.split(img)\n",
    "    red = np.zeros((size[0], size[1], 3))\n",
    "    red[:,:,2] = r / 255\n",
    "    red_min, green_max, blue_max = 100, 50, 50\n",
    "    bw = np.logical_and(np.logical_and(r > red_min, g < green_max), b < blue_max)\n",
    "    bw = bw.astype('float32')\n",
    "    gaussian = cv2.GaussianBlur(bw, (121, 91), 0)\n",
    "    blur = cv2.blur(bw, (60, 60))\n",
    "    return gaussian, blur, bw\n",
    "\n",
    "img = cv2.imread('test_img.png', cv2.IMREAD_COLOR)\n",
    "gaussian, blur, bw = detect_red(img)\n",
    "cv2.imshow('uniform', blur)\n",
    "cv2.imshow('threshold', bw)\n",
    "cv2.imshow('gaussian', gaussian)\n",
    "\n",
    "cv2.waitKey(0)\n",
    "cv2.destroyAllWindows()"
   ]
  },
  {
   "cell_type": "code",
   "execution_count": 132,
   "metadata": {
    "collapsed": false
   },
   "outputs": [],
   "source": [
    "def bounding_box(img):\n",
    "    # find contours\n",
    "    ret = img.astype('uint8')\n",
    "    (_, contours, _) = cv2.findContours(ret, cv2.RETR_EXTERNAL, \n",
    "        cv2.CHAIN_APPROX_SIMPLE)\n",
    "\n",
    "    # print table of contours and sizes\n",
    "    max_contour = max(contours, key=lambda c: len(c)) if len(contours) > 0 else None\n",
    "    if max_contour is None: return ret, [(0,0), (0,0)]\n",
    "    x, y, w, h = cv2.boundingRect(max_contour)\n",
    "    # draw a rectangle to visualize the bounding rect\n",
    "    cv2.rectangle(ret, (x, y), (x+w, y+h), 255, 2)\n",
    "    # get the min area rect\n",
    "    rect = cv2.minAreaRect(max_contour)\n",
    "    box = cv2.boxPoints(rect)\n",
    "    # convert all coordinates floating point values to int\n",
    "    box = np.int0(box)\n",
    "    # draw a red 'nghien' rectangle\n",
    "    cv2.drawContours(ret, [box], 0, 255)\n",
    "    return ret, [(x, y), (x+w, y+h)]\n",
    "\n",
    "blur_b = bounding_box(blur)\n",
    "cv2.imshow('blur', blur_b[0])\n",
    "\n",
    "gaussian_b = bounding_box(gaussian)\n",
    "cv2.imshow('gaussian', gaussian_b[0])\n",
    "\n",
    "bw_b = bounding_box(bw)\n",
    "cv2.imshow('threshold', bw_b[0])\n",
    "\n",
    "cv2.imshow('original', img)\n",
    "cv2.waitKey(0)\n",
    "cv2.destroyAllWindows()"
   ]
  },
  {
   "cell_type": "code",
   "execution_count": 104,
   "metadata": {
    "collapsed": true
   },
   "outputs": [],
   "source": [
    "cv2.destroyAllWindows()"
   ]
  },
  {
   "cell_type": "code",
   "execution_count": 133,
   "metadata": {
    "collapsed": true
   },
   "outputs": [],
   "source": [
    "bw_b, coords = bounding_box(bw)\n",
    "x1, y1 = coords[0]\n",
    "x2, y2 = coords[1]\n",
    "fin = img.copy()\n",
    "cv2.rectangle(fin, (x1, y1), (x2, y2), 255, 2)\n",
    "cv2.imshow('final', fin)\n",
    "cv2.waitKey(0)\n",
    "cv2.destroyAllWindows()"
   ]
  },
  {
   "cell_type": "code",
   "execution_count": 137,
   "metadata": {
    "collapsed": false
   },
   "outputs": [],
   "source": [
    "def frame_to_bounding_box(img, IMAGE_MODE='rgb'):\n",
    "    size = img.shape\n",
    "    img = img.reshape((size[0], size[1], 3))\n",
    "    if IMAGE_MODE=='bgr':\n",
    "        b, g, r = cv2.split(img)\n",
    "    else:\n",
    "        r, g, b = cv2.split(img)\n",
    "    red = np.zeros((size[0], size[1], 3))\n",
    "    red[:,:,2] = r / 255\n",
    "    red_min, green_max, blue_max = 100, 50, 50\n",
    "    bw = np.logical_and(np.logical_and(r > red_min, g < green_max), b < blue_max)\n",
    "    bw_b, coords = bounding_box(bw)\n",
    "    x1, y1 = coords[0]\n",
    "    x2, y2 = coords[1]\n",
    "    fin = img\n",
    "    cv2.rectangle(fin, (x1, y1), (x2, y2), 255, 2)\n",
    "    return fin\n",
    "img = cv2.imread('test_img.png', cv2.IMREAD_COLOR)\n",
    "fin = frame_to_bounding_box(img, 'bgr')\n",
    "cv2.imshow('final', fin)\n",
    "cv2.waitKey(0)\n",
    "cv2.destroyAllWindows()"
   ]
  },
  {
   "cell_type": "code",
   "execution_count": 144,
   "metadata": {
    "collapsed": false
   },
   "outputs": [],
   "source": [
    "cap = skvideo.io.vreader('redbox_2.avi')\n",
    "#fourcc = cv2.CV_FOURCC(*'DIVX')\n",
    "out = cv2.VideoWriter('output.avi',-1, 20.0, (1288,964))\n",
    "for frame in cap:\n",
    "    fin = frame_to_bounding_box(frame)[:, :, ::-1] #convert from rgb to bgr\n",
    "    cv2.imshow('final', fin) \n",
    "    out.write(fin)\n",
    "    if cv2.waitKey(100) & 0xFF == ord('q'):\n",
    "        break\n",
    "\n",
    "cv2.destroyAllWindows()"
   ]
  },
  {
   "cell_type": "code",
   "execution_count": null,
   "metadata": {
    "collapsed": true
   },
   "outputs": [],
   "source": []
  }
 ],
 "metadata": {
  "anaconda-cloud": {},
  "kernelspec": {
   "display_name": "Python [conda root]",
   "language": "python",
   "name": "conda-root-py"
  },
  "language_info": {
   "codemirror_mode": {
    "name": "ipython",
    "version": 3
   },
   "file_extension": ".py",
   "mimetype": "text/x-python",
   "name": "python",
   "nbconvert_exporter": "python",
   "pygments_lexer": "ipython3",
   "version": "3.5.2"
  }
 },
 "nbformat": 4,
 "nbformat_minor": 2
}

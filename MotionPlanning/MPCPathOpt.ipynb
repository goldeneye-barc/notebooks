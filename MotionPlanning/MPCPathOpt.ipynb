{
 "cells": [
  {
   "cell_type": "code",
   "execution_count": 1,
   "metadata": {},
   "outputs": [],
   "source": [
    "import numpy as np\n",
    "import scipy\n",
    "from scipy.optimize import minimize\n",
    "import matplotlib\n",
    "import matplotlib.pyplot as plt"
   ]
  },
  {
   "cell_type": "code",
   "execution_count": 50,
   "metadata": {},
   "outputs": [],
   "source": [
    "dT = 1\n",
    "lr = .25\n",
    "lf = .25\n",
    "a = -0.77\n",
    "b = .231\n",
    "R = 0.035"
   ]
  },
  {
   "cell_type": "code",
   "execution_count": 51,
   "metadata": {},
   "outputs": [],
   "source": [
    "def f1(z,beta):\n",
    "    return z[3]*np.cos(z[2]+beta)\n",
    "\n",
    "def f2(z,beta):\n",
    "    return z[3]*np.sin(z[2]+beta)\n",
    "\n",
    "def f3(z,beta):\n",
    "    return (z[3]/lr)*np.sin(beta)\n",
    "\n",
    "def f4(z,beta,u):\n",
    "    return R*(np.pi/2)*(a*z[3] + b*(u[0] - 1500))\n",
    "\n",
    "def f5(u):\n",
    "    return np.arctan((lr/(lr+lf))*np.tan(u[1]))\n",
    "\n",
    "\n",
    "\n"
   ]
  },
  {
   "cell_type": "code",
   "execution_count": 52,
   "metadata": {},
   "outputs": [],
   "source": [
    "def kinematics(z,u,dT):\n",
    "    beta = f5(u)\n",
    "    z1 = z + np.array([f1(z,beta),f2(z,beta),f3(z,beta),f4(z,beta,u)])*dT\n",
    "    return z1"
   ]
  },
  {
   "cell_type": "code",
   "execution_count": 79,
   "metadata": {},
   "outputs": [],
   "source": [
    "t = np.linspace(0,10,10)\n",
    "delta = np.ones(t.shape)*0.1 #np.sin(t)*(np.pi/6)\n",
    "um = np.ones(t.shape)*1550\n",
    "U = np.vstack((um,delta))\n",
    "z0 = np.array([0,0,0,1])\n",
    "Z = np.zeros((t.shape[0],4))\n",
    "Z[0,:] = z0\n",
    "\n",
    "for i in range(1,t.shape[0]):\n",
    "    Z[i,:] = kinematics(Z[i-1,:],U[:,i-1],dT)"
   ]
  },
  {
   "cell_type": "code",
   "execution_count": 80,
   "metadata": {},
   "outputs": [
    {
     "data": {
      "text/plain": [
       "[<matplotlib.lines.Line2D at 0x2621917e438>]"
      ]
     },
     "execution_count": 80,
     "metadata": {},
     "output_type": "execute_result"
    },
    {
     "data": {
      "image/png": "[encoded data removed]",
      "text/plain": [
       "<matplotlib.figure.Figure at 0x262190f1080>"
      ]
     },
     "metadata": {},
     "output_type": "display_data"
    }
   ],
   "source": [
    "plt.plot(Z[:,0],Z[:,1])"
   ]
  },
  {
   "cell_type": "code",
   "execution_count": 126,
   "metadata": {},
   "outputs": [],
   "source": [
    "def cost(UU):\n",
    "    Zg = np.array([10,5,np.pi/2,1])\n",
    "    \n",
    "    dT = 1\n",
    "    PredHor = 10\n",
    "    U = UU.reshape((2,PredHor))\n",
    "    Z = np.zeros((4,PredHor))\n",
    "    Z[:,0] = np.array([0,0,0,1])\n",
    "    \n",
    "    for i in range(1,PredHor):\n",
    "        Z[:,i] = kinematics(Z[:,i-1],U[:,i-1],dT)\n",
    "        \n",
    "    J = 0\n",
    "    Q = np.array([[0,0],[0,1]])\n",
    "    R = np.eye(4)*3\n",
    "    goalCrossed = False\n",
    "    for j in range(0,PredHor):\n",
    "        # Need To Add, If Z in Z free constraint\n",
    "        zi = Z[:,j]\n",
    "        ui = U[:,j]\n",
    "        uabs = (np.absolute(ui - np.array([1500,0])))\n",
    "        if uabs[0] <= 400 and uabs[1]<= np.pi/6:\n",
    "            J += np.dot(zi-Zg,np.dot(R,zi-Zg)) + np.dot(ui - np.array([1500,0]),np.dot(Q,ui-np.array([1500,0])))\n",
    "        else: \n",
    "            return float('inf')\n",
    "        \n",
    "        ## IF GOAL IS REACHED CONSTRAINT NOT WORKING\n",
    "        #if uabs[0] <= 400 and uabs[1]<= np.pi/6:\n",
    "        #    if (np.allclose(zi,Zg,atol=0.1) == False) and goalCrossed == False: \n",
    "        #        J += 10000 + np.dot(ui - np.array([1500,0]),np.dot(Q,ui-np.array([1500,0])))\n",
    "        #    elif goalCrossed == True:\n",
    "        #        J += np.dot(ui,np.dot(Q,ui))\n",
    "        #    elif (np.allclose(zi,Zg,atol=0.1)):\n",
    "        #        goalCrossed = True\n",
    "        #        J += np.dot(ui,np.dot(Q,ui))\n",
    "        #else: \n",
    "        #    return float('inf')\n",
    "    return J\n",
    "        \n",
    "        \n",
    "        \n",
    "    \n",
    "    \n",
    "    "
   ]
  },
  {
   "cell_type": "code",
   "execution_count": 127,
   "metadata": {},
   "outputs": [
    {
     "name": "stdout",
     "output_type": "stream",
     "text": [
      "3386.759947574272\n"
     ]
    }
   ],
   "source": [
    "UU = np.hstack((um,delta))\n",
    "J = cost(UU)\n",
    "print(J)"
   ]
  },
  {
   "cell_type": "code",
   "execution_count": 128,
   "metadata": {},
   "outputs": [
    {
     "name": "stdout",
     "output_type": "stream",
     "text": [
      "Optimization terminated successfully.\n",
      "         Current function value: 890.033604\n",
      "         Iterations: 9704\n",
      "         Function evaluations: 12581\n"
     ]
    }
   ],
   "source": [
    "UUU =  minimize(cost, UU, method='nelder-mead', options={'maxiter' : 10000, 'disp': True})\n"
   ]
  },
  {
   "cell_type": "code",
   "execution_count": 129,
   "metadata": {},
   "outputs": [
    {
     "name": "stdout",
     "output_type": "stream",
     "text": [
      "final cost =  890.0336039118898\n"
     ]
    }
   ],
   "source": [
    "Us = np.array(UUU.x).reshape((2,10))\n",
    "print('final cost = ', cost(Us))\n",
    "Z = np.zeros((4,10))\n",
    "Z[:,0] = np.array([0,0,0,1])\n",
    "    \n",
    "for i in range(1,10):\n",
    "    Z[:,i] = kinematics(Z[:,i-1],Us[:,i-1],1)"
   ]
  },
  {
   "cell_type": "code",
   "execution_count": 130,
   "metadata": {},
   "outputs": [
    {
     "data": {
      "text/plain": [
       "[<matplotlib.lines.Line2D at 0x2621a4cc978>]"
      ]
     },
     "execution_count": 130,
     "metadata": {},
     "output_type": "execute_result"
    },
    {
     "data": {
      "image/png": "[encoded data removed]",
      "text/plain": [
       "<matplotlib.figure.Figure at 0x26218f44828>"
      ]
     },
     "metadata": {},
     "output_type": "display_data"
    },
    {
     "data": {
      "image/png": "[encoded data removed]",
      "text/plain": [
       "<matplotlib.figure.Figure at 0x26218f44e10>"
      ]
     },
     "metadata": {},
     "output_type": "display_data"
    }
   ],
   "source": [
    "plt.plot(Z[0,:],Z[1,:],10,5,'r.')\n",
    "plt.figure()\n",
    "plt.plot(t,Z[3,:])"
   ]
  },
  {
   "cell_type": "code",
   "execution_count": null,
   "metadata": {},
   "outputs": [],
   "source": []
  }
 ],
 "metadata": {
  "kernelspec": {
   "display_name": "Python 3",
   "language": "python",
   "name": "python3"
  },
  "language_info": {
   "codemirror_mode": {
    "name": "ipython",
    "version": 3
   },
   "file_extension": ".py",
   "mimetype": "text/x-python",
   "name": "python",
   "nbconvert_exporter": "python",
   "pygments_lexer": "ipython3",
   "version": "3.6.4"
  }
 },
 "nbformat": 4,
 "nbformat_minor": 2
}
